{
 "cells": [
  {
   "cell_type": "markdown",
   "id": "29dd7d35-de02-4b9e-b926-153c4f142058",
   "metadata": {},
   "source": [
    "# Data Science Tools and Ecosystems"
   ]
  },
  {
   "cell_type": "markdown",
   "id": "6e46a078-6a08-4155-940a-1d2de1e29443",
   "metadata": {},
   "source": [
    "## In this notebook, Data Science Tools and Ecosystems are summarized."
   ]
  },
  {
   "cell_type": "markdown",
   "id": "2cd84349-a277-4d9a-b03a-452deaa5ecb9",
   "metadata": {},
   "source": [
    "###Some of the popular languages that Data Science use are:"
   ]
  },
  {
   "cell_type": "code",
   "execution_count": 1,
   "id": "6743283e-b121-48b2-8178-6611eeae7fc9",
   "metadata": {},
   "outputs": [
    {
     "name": "stdout",
     "output_type": "stream",
     "text": [
      "['SQL', 'R', 'Java', 'Julia']\n"
     ]
    }
   ],
   "source": [
    "mylist = [\"SQL\", \"R\", \"Java\", \"Julia\"]\n",
    "print(mylist)"
   ]
  },
  {
   "cell_type": "markdown",
   "id": "c3c99c46-631c-4ab9-b711-5ef82f42859f",
   "metadata": {},
   "source": [
    "###Some of the commonly used libraries used by Data Scientist include"
   ]
  },
  {
   "cell_type": "code",
   "execution_count": 1,
   "id": "2c82c534-c7b0-4280-8dae-2eff4b1bdafe",
   "metadata": {},
   "outputs": [
    {
     "name": "stdout",
     "output_type": "stream",
     "text": [
      "['matplotlib', 'Seaborn', 'Scilit-learn', 'Keras']\n"
     ]
    }
   ],
   "source": [
    "mylist = [\"matplotlib\", \"Seaborn\", \"Scilit-learn\", \"Keras\"]\n",
    "print(mylist)"
   ]
  },
  {
   "cell_type": "markdown",
   "id": "61c606ce-a3a5-4245-85a1-20504a1839ee",
   "metadata": {},
   "source": [
    "[DataScienceTools]\n",
    "----------------\n",
    "[\"R\", \"Tensorflow\", \"scikit-learn\"]\n",
    "\n",
    "\n"
   ]
  },
  {
   "cell_type": "markdown",
   "id": "aebc8382-c1ce-4c62-976c-0d948923eb63",
   "metadata": {},
   "source": [
    "###Below are a few example of evaluating arithemic examples in Python"
   ]
  },
  {
   "cell_type": "code",
   "execution_count": null,
   "id": "2b462445-54b3-45a2-b5b2-6077ce4f9fc3",
   "metadata": {},
   "outputs": [],
   "source": []
  },
  {
   "cell_type": "markdown",
   "id": "fcb09f9d-1a67-4125-9274-414c57b4440e",
   "metadata": {},
   "source": [
    "###This is a simpe arithematic expression to multiply and then add"
   ]
  },
  {
   "cell_type": "code",
   "execution_count": 11,
   "id": "e2d8d59c-d36f-43f6-bdfb-3ea61a1c0d3b",
   "metadata": {},
   "outputs": [
    {
     "data": {
      "text/plain": [
       "17"
      ]
     },
     "execution_count": 11,
     "metadata": {},
     "output_type": "execute_result"
    }
   ],
   "source": [
    "(3*4)+5"
   ]
  },
  {
   "cell_type": "markdown",
   "id": "6e16dfc1-c34d-42b7-b2c8-b59336f12fb0",
   "metadata": {},
   "source": [
    "###This will convert 200 minutes to hours by dividing by 60"
   ]
  },
  {
   "cell_type": "code",
   "execution_count": 12,
   "id": "d5c20ec7-3809-4d7a-a8c7-b841ea6fdfbe",
   "metadata": {},
   "outputs": [
    {
     "data": {
      "text/plain": [
       "3.3333333333333335"
      ]
     },
     "execution_count": 12,
     "metadata": {},
     "output_type": "execute_result"
    }
   ],
   "source": [
    "200/60"
   ]
  },
  {
   "cell_type": "markdown",
   "id": "ba4a1dd8-1260-42ae-a90f-b64bd2afc189",
   "metadata": {},
   "source": [
    "##Objectives:"
   ]
  },
  {
   "cell_type": "code",
   "execution_count": 14,
   "id": "9ce930b1-831f-416f-8198-c63319259b7d",
   "metadata": {},
   "outputs": [
    {
     "name": "stdout",
     "output_type": "stream",
     "text": [
      "['list of popular languares', 'list of popular developmen sources', 'List of common Data Science Tools', 'List of populat Data Science Libraries']\n"
     ]
    }
   ],
   "source": [
    "mylist= [\"list of popular languares\", \"list of popular developmen sources\", \"List of common Data Science Tools\", \"List of populat Data Science Libraries\"]\n",
    "print(mylist)"
   ]
  },
  {
   "cell_type": "markdown",
   "id": "c8c0344c-2769-436b-9ac5-3b5a7024aff1",
   "metadata": {},
   "source": [
    "##Author\n"
   ]
  },
  {
   "cell_type": "markdown",
   "id": "ea31c0e9-e292-4a8b-ad33-a8e6b8e3bde7",
   "metadata": {},
   "source": [
    "####Nadia"
   ]
  },
  {
   "cell_type": "code",
   "execution_count": null,
   "id": "b14be269-6ee9-4ca3-94f9-076a71dc400a",
   "metadata": {},
   "outputs": [],
   "source": []
  }
 ],
 "metadata": {
  "kernelspec": {
   "display_name": "Python 3 (ipykernel)",
   "language": "python",
   "name": "python3"
  },
  "language_info": {
   "codemirror_mode": {
    "name": "ipython",
    "version": 3
   },
   "file_extension": ".py",
   "mimetype": "text/x-python",
   "name": "python",
   "nbconvert_exporter": "python",
   "pygments_lexer": "ipython3",
   "version": "3.12.8"
  }
 },
 "nbformat": 4,
 "nbformat_minor": 5
}
